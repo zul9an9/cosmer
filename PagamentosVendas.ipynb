{
 "cells": [
  {
   "cell_type": "code",
   "execution_count": null,
   "id": "cb373fbe",
   "metadata": {},
   "outputs": [],
   "source": [
    "from pyspark.sql.types import *"
   ]
  },
  {
   "cell_type": "code",
   "execution_count": null,
   "id": "6208c385",
   "metadata": {},
   "outputs": [],
   "source": [
    "import pyspark.sql.functions as f"
   ]
  },
  {
   "cell_type": "code",
   "execution_count": null,
   "id": "f8fcf88f",
   "metadata": {},
   "outputs": [],
   "source": [
    "from pyspark.sql import SparkSession"
   ]
  },
  {
   "cell_type": "code",
   "execution_count": null,
   "id": "642c726c",
   "metadata": {},
   "outputs": [],
   "source": [
    "from pyspark.sql.types import StructField,IntegerType, FloatType, BooleanType ,StructType,StringType"
   ]
  },
  {
   "cell_type": "code",
   "execution_count": null,
   "id": "971b8bba",
   "metadata": {},
   "outputs": [],
   "source": [
    "from pyspark.sql.dataframe import DataFrame"
   ]
  },
  {
   "cell_type": "code",
   "execution_count": null,
   "id": "8cd7f40c",
   "metadata": {},
   "outputs": [],
   "source": [
    "from datetime import datetime"
   ]
  },
  {
   "cell_type": "code",
   "execution_count": null,
   "id": "d7495c1a",
   "metadata": {},
   "outputs": [],
   "source": [
    "from pyspark.sql import Row"
   ]
  },
  {
   "cell_type": "code",
   "execution_count": null,
   "id": "61e6ea49",
   "metadata": {},
   "outputs": [],
   "source": [
    "import os"
   ]
  },
  {
   "cell_type": "code",
   "execution_count": null,
   "id": "ccb36306",
   "metadata": {},
   "outputs": [],
   "source": [
    "import json"
   ]
  },
  {
   "cell_type": "code",
   "execution_count": null,
   "id": "33cd47d4",
   "metadata": {},
   "outputs": [],
   "source": [
    "import csv"
   ]
  },
  {
   "cell_type": "code",
   "execution_count": null,
   "id": "a7356e3b",
   "metadata": {},
   "outputs": [],
   "source": [
    "import pandas as pd"
   ]
  },
  {
   "cell_type": "code",
   "execution_count": null,
   "id": "e7ecf75c",
   "metadata": {},
   "outputs": [],
   "source": [
    "import numpy as np"
   ]
  },
  {
   "cell_type": "code",
   "execution_count": null,
   "id": "e170e8e3",
   "metadata": {},
   "outputs": [],
   "source": [
    "import requests"
   ]
  },
  {
   "cell_type": "code",
   "execution_count": null,
   "id": "c8ab8252",
   "metadata": {},
   "outputs": [],
   "source": [
    "spark = (\n",
    "    SparkSession\n",
    "    .builder\n",
    "    .master(\"local\")\n",
    "    .appName(\"test-Cosmer\")\n",
    "    .config(\"spark.sql.shuffle.partitions\", 13)\n",
    "    .config(\"spark.driver.memory\", \"10g\")\n",
    "    .config(\"spark.sql.legacy.createHiveTableByDefault\", \"false\")\n",
    "    .config(\"spark.sql.debug.maxToStringFields\", 1000000)\n",
    "    .config(\"setLogLevel\", \"INFO\")\n",
    "    .config(\"spark.logConf\", \"true\")\n",
    "    .getOrCreate()\n",
    ")\n",
    "#spark.sparkContext.setLogLevel(\"WARN\")  \n",
    "    \n"
   ]
  },
  {
   "cell_type": "code",
   "execution_count": null,
   "id": "146e70d4",
   "metadata": {},
   "outputs": [],
   "source": [
    "\n",
    "#spark.sparkContext.setLogLevel(\"WARN\")  \n",
    "    \n",
    "df_pagtoGeral = spark.read.parquet(\"/app/parquet/pagamentosGerais/df_pagtoGeral.parquet\")\n"
   ]
  },
  {
   "cell_type": "code",
   "execution_count": null,
   "id": "606fa245",
   "metadata": {},
   "outputs": [],
   "source": [
    "# realiza a leitura de pagamentos gerais do parquet\n",
    "df_pagtoGeral.show()"
   ]
  },
  {
   "cell_type": "code",
   "execution_count": null,
   "id": "67fc9b60",
   "metadata": {},
   "outputs": [],
   "source": [
    "# criar uma base sql de pagamentos gerais\n",
    "df_pagtoGeral.createOrReplaceTempView(\"PagtosGerais\")"
   ]
  },
  {
   "cell_type": "code",
   "execution_count": null,
   "id": "e9d17e18",
   "metadata": {},
   "outputs": [],
   "source": [
    "# faz a pesquisa na base\n",
    "spark.sql(\"SELECT * FROM PagtosGerais\").show()"
   ]
  },
  {
   "cell_type": "code",
   "execution_count": null,
   "id": "34b403fa",
   "metadata": {},
   "outputs": [],
   "source": [
    "df_clientes = spark.read.parquet(\"/app/parquet/clientes/df_clientes.parquet\")\n"
   ]
  },
  {
   "cell_type": "code",
   "execution_count": null,
   "id": "dee938b7",
   "metadata": {},
   "outputs": [],
   "source": [
    "# criar uma base sql de pagamentos gerais\n",
    "df_clientes.createOrReplaceTempView(\"Clientes\")\n"
   ]
  },
  {
   "cell_type": "code",
   "execution_count": null,
   "id": "149ecf72",
   "metadata": {},
   "outputs": [],
   "source": [
    "# realiza a leitura de pagamentos gerais do parquet\n",
    "df_clientes.show()\n"
   ]
  },
  {
   "cell_type": "code",
   "execution_count": null,
   "id": "0a31899c",
   "metadata": {},
   "outputs": [],
   "source": [
    "# criar uma base sql de pagamentos gerais\n",
    "df_clientes.createOrReplaceTempView(\"Clientes\")\n"
   ]
  },
  {
   "cell_type": "code",
   "execution_count": null,
   "id": "97ea4b8e",
   "metadata": {},
   "outputs": [],
   "source": [
    "# faz a pesquisa na base\n",
    "spark.sql(\"SELECT * FROM Clientes\").show()"
   ]
  },
  {
   "cell_type": "code",
   "execution_count": null,
   "id": "5ff57e0c",
   "metadata": {},
   "outputs": [],
   "source": [
    "# faz a pesquisa na base\n",
    "spark.sql(\"SELECT * FROM PagtosGerais\").show()"
   ]
  }
 ],
 "metadata": {
  "kernelspec": {
   "display_name": "Python 3 (ipykernel)",
   "language": "python",
   "name": "python3"
  },
  "language_info": {
   "codemirror_mode": {
    "name": "ipython",
    "version": 3
   },
   "file_extension": ".py",
   "mimetype": "text/x-python",
   "name": "python",
   "nbconvert_exporter": "python",
   "pygments_lexer": "ipython3",
   "version": "3.9.7"
  }
 },
 "nbformat": 4,
 "nbformat_minor": 5
}
